{
  "nbformat": 4,
  "nbformat_minor": 0,
  "metadata": {
    "colab": {
      "provenance": [],
      "authorship_tag": "ABX9TyPJyst5QJIKL25p5C2uw7Us",
      "include_colab_link": true
    },
    "kernelspec": {
      "name": "python3",
      "display_name": "Python 3"
    },
    "language_info": {
      "name": "python"
    }
  },
  "cells": [
    {
      "cell_type": "markdown",
      "metadata": {
        "id": "view-in-github",
        "colab_type": "text"
      },
      "source": [
        "<a href=\"https://colab.research.google.com/github/realslimchris/NLP-Course/blob/main/40_Lemmatization.ipynb\" target=\"_parent\"><img src=\"https://colab.research.google.com/assets/colab-badge.svg\" alt=\"Open In Colab\"/></a>"
      ]
    },
    {
      "cell_type": "code",
      "execution_count": 1,
      "metadata": {
        "id": "I4fukZT32mbL"
      },
      "outputs": [],
      "source": [
        "from nltk.stem import WordNetLemmatizer"
      ]
    },
    {
      "cell_type": "code",
      "source": [
        "import nltk\n",
        "nltk.download('wordnet')"
      ],
      "metadata": {
        "colab": {
          "base_uri": "https://localhost:8080/"
        },
        "id": "xaQHUCkn3XaW",
        "outputId": "80c3aece-415f-4bd6-d258-02f3aac28721"
      },
      "execution_count": 10,
      "outputs": [
        {
          "output_type": "stream",
          "name": "stderr",
          "text": [
            "[nltk_data] Downloading package wordnet to /root/nltk_data...\n"
          ]
        },
        {
          "output_type": "execute_result",
          "data": {
            "text/plain": [
              "True"
            ]
          },
          "metadata": {},
          "execution_count": 10
        }
      ]
    },
    {
      "cell_type": "code",
      "source": [
        "corpus = \"I love programming deeply. I'm learning AI on a daily basis through online. I'm learning quickly.\""
      ],
      "metadata": {
        "id": "S9dYR-r92x6G"
      },
      "execution_count": 25,
      "outputs": []
    },
    {
      "cell_type": "code",
      "source": [
        "lemmatization=WordNetLemmatizer()"
      ],
      "metadata": {
        "id": "VRuZ8UOK3Fzn"
      },
      "execution_count": 26,
      "outputs": []
    },
    {
      "cell_type": "code",
      "source": [
        "for word in corpus.split():\n",
        "    print(lemmatization.lemmatize(word,pos='n'))"
      ],
      "metadata": {
        "colab": {
          "base_uri": "https://localhost:8080/"
        },
        "id": "AU7gt8eW3KDl",
        "outputId": "f7f25956-7b86-4e9f-f367-8149f33d9acb"
      },
      "execution_count": 30,
      "outputs": [
        {
          "output_type": "stream",
          "name": "stdout",
          "text": [
            "I\n",
            "love\n",
            "programming\n",
            "deeply.\n",
            "I'm\n",
            "learning\n",
            "AI\n",
            "on\n",
            "a\n",
            "daily\n",
            "basis\n",
            "through\n",
            "online.\n",
            "I'm\n",
            "learning\n",
            "quickly.\n"
          ]
        }
      ]
    },
    {
      "cell_type": "code",
      "source": [],
      "metadata": {
        "id": "kFVEbEOS3OOy"
      },
      "execution_count": null,
      "outputs": []
    }
  ]
}